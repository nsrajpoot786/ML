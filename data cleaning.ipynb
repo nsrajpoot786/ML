{
 "cells": [
  {
   "cell_type": "code",
   "execution_count": 1,
   "metadata": {},
   "outputs": [],
   "source": [
    "import numpy as np\n",
    "import pandas as pd\n",
    "\n",
    "# Read the df from the CSV file\n",
    "df = pd.read_csv(\"fake_df.csv\")\n",
    "original_df = df.copy()\n",
    "\n",
    "# Print the first 5 rows of the dfFrame\n",
    "print(df)\n",
    "\n",
    "# Print EDA\n",
    "print(df.describe())\n",
    "print(df.info())\n",
    "print(df.isna().sum())\n",
    "\n",
    "# Remove Duplicates\n",
    "df = df.drop_duplicates()\n",
    "\n",
    "# Drop the rows & Columns with NaN values\n",
    "df = df.dropna(axis=0, how=\"any\")\n",
    "df = df.dropna(axis=1, how=\"any\")\n",
    "\n",
    "# Replace YES/NO with 1/0\n",
    "df[\"Rain\"] = df[\"Rain\"].replace(\"YES\", 1)\n",
    "df[\"Rain\"] = df[\"Rain\"].replace(\"NO\", 0)\n",
    "\n",
    "# Print EDA After Droping NaN values\n",
    "print(df.describe())\n",
    "print(df.info())\n",
    "print(df.isna().sum())\n",
    "\n",
    "# Save the cleaned df to a new CSV file\n",
    "df.to_csv(\"fake_df_cleaned.csv\", index=False)"
   ]
  }
 ],
 "metadata": {
  "kernelspec": {
   "display_name": "Python 3",
   "language": "python",
   "name": "python3"
  },
  "language_info": {
   "codemirror_mode": {
    "name": "ipython",
    "version": 3
   },
   "file_extension": ".py",
   "mimetype": "text/x-python",
   "name": "python",
   "nbconvert_exporter": "python",
   "pygments_lexer": "ipython3",
   "version": "3.12.0"
  }
 },
 "nbformat": 4,
 "nbformat_minor": 2
}
